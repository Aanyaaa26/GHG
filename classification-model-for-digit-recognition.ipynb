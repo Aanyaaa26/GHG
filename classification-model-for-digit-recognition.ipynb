{
 "cells": [
  {
   "cell_type": "code",
   "execution_count": 33,
   "id": "36fc9597",
   "metadata": {},
   "outputs": [
    {
     "name": "stdout",
     "output_type": "stream",
     "text": [
      "data shape: (1797, 64)\n",
      "target shape: (1797,)\n",
      "images shape: (1797, 8, 8)\n"
     ]
    }
   ],
   "source": [
    "from sklearn.datasets import load_digits\n",
    "\n",
    "dataset=load_digits()\n",
    "\n",
    "data=dataset.data\n",
    "target=dataset.target\n",
    "images=dataset.images\n",
    "print('data shape:',data.shape)#64 element array\n",
    "print('target shape:',target.shape)#1,2,3\n",
    "print('images shape:',images.shape)"
   ]
  },
  {
   "cell_type": "code",
   "execution_count": 34,
   "id": "8ee4a124",
   "metadata": {
    "scrolled": true
   },
   "outputs": [
    {
     "data": {
      "text/plain": [
       "<matplotlib.image.AxesImage at 0x7fccbaa973d0>"
      ]
     },
     "execution_count": 34,
     "metadata": {},
     "output_type": "execute_result"
    },
    {
     "data": {
      "image/png": "[encoded data removed]",
      "text/plain": [
       "<Figure size 640x480 with 1 Axes>"
      ]
     },
     "metadata": {},
     "output_type": "display_data"
    }
   ],
   "source": [
    "from matplotlib import pyplot as plt\n",
    "plt.imshow(images[200],cmap='gray')\n"
   ]
  },
  {
   "cell_type": "code",
   "execution_count": 35,
   "id": "6aac43ec",
   "metadata": {},
   "outputs": [
    {
     "name": "stdout",
     "output_type": "stream",
     "text": [
      "1\n"
     ]
    }
   ],
   "source": [
    "print(target[200])"
   ]
  },
  {
   "cell_type": "code",
   "execution_count": 36,
   "id": "6a75fd59",
   "metadata": {
    "scrolled": true
   },
   "outputs": [
    {
     "name": "stdout",
     "output_type": "stream",
     "text": [
      "[ 0.  0.  0.  0. 11. 12.  0.  0.  0.  0.  0.  3. 15. 14.  0.  0.  0.  0.\n",
      "  0. 11. 16. 11.  0.  0.  0.  0.  9. 16. 16. 10.  0.  0.  0.  4. 16. 12.\n",
      " 16. 12.  0.  0.  0.  3. 10.  3. 16. 11.  0.  0.  0.  0.  0.  0. 16. 14.\n",
      "  0.  0.  0.  0.  0.  0. 11. 11.  0.  0.]\n"
     ]
    }
   ],
   "source": [
    "print(data[200])"
   ]
  },
  {
   "cell_type": "code",
   "execution_count": 37,
   "id": "07552b4d",
   "metadata": {},
   "outputs": [],
   "source": [
    "from sklearn.model_selection import train_test_split\n",
    "train_data,test_data,train_target,test_target=train_test_split(data,target,test_size=0.5)\n"
   ]
  },
  {
   "cell_type": "code",
   "execution_count": 38,
   "id": "268547b4",
   "metadata": {},
   "outputs": [
    {
     "data": {
      "text/plain": [
       "KNeighborsClassifier()"
      ]
     },
     "execution_count": 38,
     "metadata": {},
     "output_type": "execute_result"
    }
   ],
   "source": [
    "from sklearn.neighbors import KNeighborsClassifier \n",
    "# loading train_data model\n",
    "model=KNeighborsClassifier()\n",
    "\n",
    "#train the model\n",
    "model.fit(train_data,train_target)\n"
   ]
  },
  {
   "cell_type": "code",
   "execution_count": 39,
   "id": "5f810ec8",
   "metadata": {},
   "outputs": [
    {
     "name": "stdout",
     "output_type": "stream",
     "text": [
      "(898, 64)\n",
      "(899, 64)\n"
     ]
    }
   ],
   "source": [
    "print(train_data.shape)\n",
    "print(test_data.shape)\n"
   ]
  },
  {
   "cell_type": "code",
   "execution_count": 40,
   "id": "0aa3b31c",
   "metadata": {},
   "outputs": [
    {
     "name": "stdout",
     "output_type": "stream",
     "text": [
      "accyacy: 0.9744160177975528\n"
     ]
    },
    {
     "name": "stderr",
     "output_type": "stream",
     "text": [
      "/Users/amitnverma/opt/anaconda3/lib/python3.9/site-packages/sklearn/neighbors/_classification.py:228: FutureWarning: Unlike other reduction functions (e.g. `skew`, `kurtosis`), the default behavior of `mode` typically preserves the axis it acts along. In SciPy 1.11.0, this behavior will change: the default value of `keepdims` will become False, the `axis` over which the statistic is taken will be eliminated, and the value None will no longer be accepted. Set `keepdims` to True or False to avoid this warning.\n",
      "  mode, _ = stats.mode(_y[neigh_ind, k], axis=1)\n"
     ]
    }
   ],
   "source": [
    "from sklearn.metrics import accuracy_score\n",
    "# applying testing imges into the trained model\n",
    "predicted_target=model.predict(test_data)\n",
    "\n",
    "acc=accuracy_score(test_target,predicted_target)\n",
    "print('accyacy:',acc)"
   ]
  },
  {
   "cell_type": "code",
   "execution_count": null,
   "id": "69eb83f8",
   "metadata": {},
   "outputs": [],
   "source": []
  },
  {
   "cell_type": "code",
   "execution_count": null,
   "id": "b13bd19e",
   "metadata": {},
   "outputs": [],
   "source": []
  },
  {
   "cell_type": "code",
   "execution_count": null,
   "id": "101a2655",
   "metadata": {},
   "outputs": [],
   "source": []
  },
  {
   "cell_type": "code",
   "execution_count": null,
   "id": "d4568ba1",
   "metadata": {},
   "outputs": [],
   "source": []
  }
 ],
 "metadata": {
  "kernelspec": {
   "display_name": "Python 3 (ipykernel)",
   "language": "python",
   "name": "python3"
  },
  "language_info": {
   "codemirror_mode": {
    "name": "ipython",
    "version": 3
   },
   "file_extension": ".py",
   "mimetype": "text/x-python",
   "name": "python",
   "nbconvert_exporter": "python",
   "pygments_lexer": "ipython3",
   "version": "3.9.13"
  }
 },
 "nbformat": 4,
 "nbformat_minor": 5
}
